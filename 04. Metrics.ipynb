{
 "cells": [
  {
   "cell_type": "markdown",
   "id": "c76fe22c",
   "metadata": {},
   "source": [
    "У нас 2 тестовые группы и нет повторяющихся пользователей. Чтобы понять какой набор предложений можно считать лучшим, нужно сравнить их между собой. Какие метрики мы будем использовать: \n",
    "\n",
    "CR - доля пользователей, которые совершили платеж. \n",
    "\n",
    "ARPU - средний доход с каждого пользователя. \n",
    "\n",
    "ARPPU - средний доход с каждого заплатившего пользователя."
   ]
  },
  {
   "cell_type": "code",
   "execution_count": 21,
   "id": "c82cdd7b",
   "metadata": {},
   "outputs": [],
   "source": [
    "def get_metrics(df):\n",
    "    df_total = df.groupby('testgroup', as_index=False).agg({'user_id':'count'}).rename(columns={'user_id':'total_users'}) \n",
    "    df_revenue = df.groupby('testgroup', as_index=False).agg({'revenue':'sum'}) \n",
    "    df_money = df.query('revenue != 0').groupby('testgroup', as_index=False).agg({'user_id':'count'}).rename(columns={'user_id':'total_customers'}) \n",
    "    df_metrics = df_total.merge(df_money, on = 'testgroup').merge(df_revenue, on = 'testgroup')\n",
    "    df_metrics['CR'] = (df_metrics.total_customers/df_metrics.total_users*100).round(2)\n",
    "    df_metrics['ARPU'] = (df_metrics.revenue/df_metrics.total_users).round(2)\n",
    "    df_metrics['ARPPU'] = (df_metrics.revenue/df_metrics.total_customers).round(2)\n",
    "    df_metrics.loc[3] = ['diff',\n",
    "                   ((df_metrics.total_users[0] - df_metrics.total_users[1])/df_metrics.total_users[1]*100).round(2), \n",
    "                   ((df_metrics.total_customers[0] - df_metrics.total_customers[1])/df_metrics.total_customers[1]*100).round(2),\n",
    "                   ((df_metrics.revenue[0] - df_metrics.revenue[1])/df_metrics.revenue[1]*100).round(2),\n",
    "                   ((df_metrics.CR[0] - df_metrics.CR[1])/df_metrics.CR[1]*100).round(2),\n",
    "                   ((df_metrics.ARPU[0] - df_metrics.ARPU[1])/df_metrics.ARPU[1]*100).round(2),\n",
    "                   ((df_metrics.ARPPU[0] - df_metrics.ARPPU[1])/df_metrics.ARPPU[1]*100).round(2)]\n",
    "    return df_metrics"
   ]
  },
  {
   "cell_type": "code",
   "execution_count": 22,
   "id": "d2d18c2f",
   "metadata": {},
   "outputs": [
    {
     "data": {
      "text/html": [
       "<div>\n",
       "<style scoped>\n",
       "    .dataframe tbody tr th:only-of-type {\n",
       "        vertical-align: middle;\n",
       "    }\n",
       "\n",
       "    .dataframe tbody tr th {\n",
       "        vertical-align: top;\n",
       "    }\n",
       "\n",
       "    .dataframe thead th {\n",
       "        text-align: right;\n",
       "    }\n",
       "</style>\n",
       "<table border=\"1\" class=\"dataframe\">\n",
       "  <thead>\n",
       "    <tr style=\"text-align: right;\">\n",
       "      <th></th>\n",
       "      <th>testgroup</th>\n",
       "      <th>total_users</th>\n",
       "      <th>total_customers</th>\n",
       "      <th>revenue</th>\n",
       "      <th>CR</th>\n",
       "      <th>ARPU</th>\n",
       "      <th>ARPPU</th>\n",
       "    </tr>\n",
       "  </thead>\n",
       "  <tbody>\n",
       "    <tr>\n",
       "      <th>0</th>\n",
       "      <td>a</td>\n",
       "      <td>202103.00</td>\n",
       "      <td>1928.00</td>\n",
       "      <td>5136189.00</td>\n",
       "      <td>0.95</td>\n",
       "      <td>25.41</td>\n",
       "      <td>2664.00</td>\n",
       "    </tr>\n",
       "    <tr>\n",
       "      <th>1</th>\n",
       "      <td>b</td>\n",
       "      <td>202667.00</td>\n",
       "      <td>1805.00</td>\n",
       "      <td>5421603.00</td>\n",
       "      <td>0.89</td>\n",
       "      <td>26.75</td>\n",
       "      <td>3003.66</td>\n",
       "    </tr>\n",
       "    <tr>\n",
       "      <th>3</th>\n",
       "      <td>diff</td>\n",
       "      <td>-0.28</td>\n",
       "      <td>6.81</td>\n",
       "      <td>-5.26</td>\n",
       "      <td>6.74</td>\n",
       "      <td>-5.01</td>\n",
       "      <td>-11.31</td>\n",
       "    </tr>\n",
       "  </tbody>\n",
       "</table>\n",
       "</div>"
      ],
      "text/plain": [
       "  testgroup  total_users  total_customers     revenue    CR   ARPU    ARPPU\n",
       "0         a    202103.00          1928.00  5136189.00  0.95  25.41  2664.00\n",
       "1         b    202667.00          1805.00  5421603.00  0.89  26.75  3003.66\n",
       "3      diff        -0.28             6.81       -5.26  6.74  -5.01   -11.31"
      ]
     },
     "execution_count": 22,
     "metadata": {},
     "output_type": "execute_result"
    }
   ],
   "source": [
    "df_metrics = get_metrics(df)\n",
    "df_metrics"
   ]
  },
  {
   "cell_type": "markdown",
   "id": "0c9b541f",
   "metadata": {},
   "source": [
    "Выводы по тестовой группе: Задействовано на 0.28% больше пользователей. Общая сумма всех покупок больше на 5.26%. На 5% выше средний доход на платящего пользователя. На 11.31% выше средних доход на платящего пользователя.\n",
    "\n",
    "Вывод по контрольной группе: Число заплативших пользователей выше на 6.8%. Конверция пользователей больше на 6.74%."
   ]
  }
 ],
 "metadata": {
  "kernelspec": {
   "display_name": "Python 3 (ipykernel)",
   "language": "python",
   "name": "python3"
  },
  "language_info": {
   "codemirror_mode": {
    "name": "ipython",
    "version": 3
   },
   "file_extension": ".py",
   "mimetype": "text/x-python",
   "name": "python",
   "nbconvert_exporter": "python",
   "pygments_lexer": "ipython3",
   "version": "3.9.13"
  }
 },
 "nbformat": 4,
 "nbformat_minor": 5
}
